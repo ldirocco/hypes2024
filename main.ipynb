{
 "cells": [
  {
   "cell_type": "code",
   "execution_count": null,
   "id": "36123da8-6aa8-494b-b14d-fc18b2bc380a",
   "metadata": {},
   "outputs": [],
   "source": [
    "import numpy as np\n",
    "import pandas as pd\n",
    "import subprocess"
   ]
  },
  {
   "cell_type": "code",
   "execution_count": null,
   "id": "4d94f842-a6f6-438d-a2ea-0fef0d937dc1",
   "metadata": {},
   "outputs": [],
   "source": [
    "from src.io import read_fasta, read_fastq, read_maf, read_from_folder, read_paf"
   ]
  },
  {
   "cell_type": "code",
   "execution_count": null,
   "id": "e9a5564e-3882-4bc5-9954-9f5bf89d10e8",
   "metadata": {},
   "outputs": [],
   "source": [
    "ref_df, fastq_df, maf_df = read_from_folder(\"data\")"
   ]
  },
  {
   "cell_type": "code",
   "execution_count": null,
   "id": "a4375934-ded6-47f6-8ec3-e0d163e492f7",
   "metadata": {},
   "outputs": [],
   "source": [
    "minimap = subprocess.call(\"src/utils/minimap.sh\", shell=True)"
   ]
  },
  {
   "cell_type": "code",
   "execution_count": null,
   "id": "49dfece7-4f52-4b4e-b3ce-59e739acb404",
   "metadata": {},
   "outputs": [],
   "source": [
    "paf_df = read_paf(\"data/ovlp.paf\")"
   ]
  },
  {
   "cell_type": "code",
   "execution_count": null,
   "id": "d167f723-4df2-46dc-9acd-2ccf4d2e843a",
   "metadata": {},
   "outputs": [],
   "source": [
    "paf_df"
   ]
  },
  {
   "cell_type": "code",
   "execution_count": null,
   "id": "c654cd89-a9cb-4d9b-ab27-3257649ae2c3",
   "metadata": {},
   "outputs": [],
   "source": [
    "import tqdm \n",
    "for target in tqdm.tqdm(fastq_df.seq_id):\n",
    "    paf_target = paf_df[paf_df[\"q_seq_name\"] == target]"
   ]
  },
  {
   "cell_type": "code",
   "execution_count": null,
   "id": "a97f6d02-a596-4e91-a748-ff4dc1f16e37",
   "metadata": {},
   "outputs": [],
   "source": []
  },
  {
   "cell_type": "code",
   "execution_count": null,
   "id": "ab99b5ed-ba59-4621-a0d1-c3d9226e513c",
   "metadata": {},
   "outputs": [],
   "source": []
  },
  {
   "cell_type": "code",
   "execution_count": null,
   "id": "f94e4755-cf92-4932-a222-931b7f123f44",
   "metadata": {},
   "outputs": [],
   "source": []
  },
  {
   "cell_type": "code",
   "execution_count": null,
   "id": "e995f6f6-7a80-4358-89c0-95ac519c3d7f",
   "metadata": {},
   "outputs": [],
   "source": []
  },
  {
   "cell_type": "code",
   "execution_count": null,
   "id": "8e30d149-739d-47c0-8486-46e081f9cd70",
   "metadata": {},
   "outputs": [],
   "source": []
  },
  {
   "cell_type": "markdown",
   "id": "bececb76-8515-439c-91d1-3394de2b66b5",
   "metadata": {},
   "source": [
    "# Old code"
   ]
  },
  {
   "cell_type": "code",
   "execution_count": null,
   "id": "4772ab26-b2fb-45ec-acf1-854e00aa9202",
   "metadata": {},
   "outputs": [],
   "source": [
    "target_start = paf_target[\"q_start\"].min()\n",
    "target_end   = paf_target[\"q_end\"].max()\n",
    "\n",
    "max_str_lenght = 500"
   ]
  },
  {
   "cell_type": "code",
   "execution_count": null,
   "id": "776408b9-ed91-4026-90d5-bcecb1e62003",
   "metadata": {},
   "outputs": [],
   "source": [
    "for c in range(target_start, target_end, max_str_lenght):\n",
    "    paf_target_window = paf_target[(paf_target[\"q_start\"] <= c) & (paf_target[\"q_end\"] >= (c + max_str_lenght))]\n",
    "    for row in paf_target_window.iterrows():\n",
    "        row = row[1]\n",
    "        print(row[\"t_seq_name\"], row[\"t_start\"], row[\"t_end\"])\n",
    "        print(len(fastq_df[fastq_df[\"seq_id\"] == row[\"t_seq_name\"]][\"sequence\"].values[0][row[\"t_start\"]:row[\"t_end\"]]))\n",
    "        break\n",
    "    break"
   ]
  },
  {
   "cell_type": "code",
   "execution_count": null,
   "id": "18c87b72-f0e6-4bf2-8a5d-1f86aeca69bf",
   "metadata": {},
   "outputs": [],
   "source": [
    "x"
   ]
  },
  {
   "cell_type": "code",
   "execution_count": null,
   "id": "afd0a559-21f2-401d-88bf-9c8ce12bce37",
   "metadata": {},
   "outputs": [],
   "source": [
    "t_seqs_maf = maf_df[maf_df[\"seq_id\"].isin(t_seqs)]"
   ]
  },
  {
   "cell_type": "code",
   "execution_count": null,
   "id": "89c4730c-a4d0-4ffb-b14b-fd706cb8ad14",
   "metadata": {},
   "outputs": [],
   "source": [
    "paf_df[paf_df[\"t_seq_name\"] == seq_id]"
   ]
  },
  {
   "cell_type": "code",
   "execution_count": null,
   "id": "f4927044-104a-445f-a159-9389a2b4b077",
   "metadata": {},
   "outputs": [],
   "source": [
    "t_seqs_ref_start = t_seqs_maf[\"ref_start\"].astype(np.int32)\n",
    "t_seqs_ref_end   = t_seqs_ref_start + t_seqs_maf[\"ref_lenght\"].astype(np.int32)\n",
    "\n",
    "max_str_lenght = 500\n",
    "start = t_seqs_ref_start.min()\n",
    "end   = t_seqs_ref_end.max()\n",
    "for c in range(start, end, max_str_lenght):\n",
    "    a = t_seqs_maf[(t_seqs_ref_start <= c) & (t_seqs_ref_end >= (c + max_str_lenght))]\n",
    "    if len(a) > 1:\n",
    "        break"
   ]
  },
  {
   "cell_type": "code",
   "execution_count": null,
   "id": "d2e8ad05-5b6e-44b3-8f76-6f96c5048966",
   "metadata": {},
   "outputs": [],
   "source": [
    "a"
   ]
  },
  {
   "cell_type": "code",
   "execution_count": null,
   "id": "18ee867f-4760-4b0d-b7cb-f278b40aac05",
   "metadata": {},
   "outputs": [],
   "source": [
    "s = ref_df[ref_df[\"ref_seq_id\"] == a[\"ref_seq_id\"][9379]].sequence[0]"
   ]
  },
  {
   "cell_type": "code",
   "execution_count": null,
   "id": "e07bd7a7-99c2-4788-b403-23dab7330397",
   "metadata": {},
   "outputs": [],
   "source": [
    "s[c:(c+500)]"
   ]
  },
  {
   "cell_type": "code",
   "execution_count": null,
   "id": "c5a29656-fef2-42a6-870d-206dd0d6a74b",
   "metadata": {},
   "outputs": [],
   "source": [
    "len(a.ref_seq_alignment[9379])"
   ]
  },
  {
   "cell_type": "code",
   "execution_count": null,
   "id": "aceb4c33-7fb5-45d0-bb1b-4f095c92c939",
   "metadata": {},
   "outputs": [],
   "source": [
    "len(a.seq_alignment[9379])"
   ]
  },
  {
   "cell_type": "code",
   "execution_count": null,
   "id": "2a5b7928-de17-4120-a1a9-a61568c7491d",
   "metadata": {},
   "outputs": [],
   "source": [
    "## Per tagliare la sequenza\n",
    "# 1. prendo la stringa di riferimento e la taglio da c a c+max_str_len\n",
    "# 2. scorro la sequenza e seq_alignment finchè non trovo il carattere iniziale e finale (?!?!)\n",
    "# 3. taglio!"
   ]
  },
  {
   "cell_type": "code",
   "execution_count": null,
   "id": "9e511402-0927-400a-8a20-059a84d8afbe",
   "metadata": {},
   "outputs": [],
   "source": []
  },
  {
   "cell_type": "code",
   "execution_count": null,
   "id": "a3cc2902-eb8d-4475-b31d-ff171836e207",
   "metadata": {},
   "outputs": [],
   "source": []
  },
  {
   "cell_type": "code",
   "execution_count": null,
   "id": "d2c115bd-5b0e-4d34-bc85-b39f0836757b",
   "metadata": {},
   "outputs": [],
   "source": []
  },
  {
   "cell_type": "code",
   "execution_count": null,
   "id": "85e600c0-ee68-4f97-94cb-25970d942b42",
   "metadata": {},
   "outputs": [],
   "source": []
  },
  {
   "cell_type": "code",
   "execution_count": null,
   "id": "1cd1b589-51ec-4ab7-afaf-b748283ad6a0",
   "metadata": {},
   "outputs": [],
   "source": []
  },
  {
   "cell_type": "code",
   "execution_count": null,
   "id": "b46bdad2-936d-452f-8190-77a193fd66e2",
   "metadata": {},
   "outputs": [],
   "source": []
  },
  {
   "cell_type": "code",
   "execution_count": null,
   "id": "4e4dc8b3-2f6e-4adc-b618-65b1ce5a83bd",
   "metadata": {},
   "outputs": [],
   "source": []
  }
 ],
 "metadata": {
  "kernelspec": {
   "display_name": "Python 3 (ipykernel)",
   "language": "python",
   "name": "python3"
  },
  "language_info": {
   "codemirror_mode": {
    "name": "ipython",
    "version": 3
   },
   "file_extension": ".py",
   "mimetype": "text/x-python",
   "name": "python",
   "nbconvert_exporter": "python",
   "pygments_lexer": "ipython3",
   "version": "3.12.2"
  }
 },
 "nbformat": 4,
 "nbformat_minor": 5
}
